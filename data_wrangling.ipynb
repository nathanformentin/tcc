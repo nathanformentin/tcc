{
 "cells": [
  {
   "cell_type": "code",
   "execution_count": 3,
   "metadata": {},
   "outputs": [],
   "source": [
    "import pandas as pd\n",
    "import statistics\n",
    "data = pd.read_csv('data_mental_health.csv')"
   ]
  },
  {
   "cell_type": "code",
   "execution_count": 4,
   "metadata": {},
   "outputs": [],
   "source": [
    "data['work_interfere'].fillna(value='Never', \n",
    "                              inplace = True)\n",
    "data['self_employed'].fillna(value='No', \n",
    "                             inplace = True)\n",
    "\n",
    "COLUMNS_TO_DROP = ['Timestamp', 'state',\n",
    "                   'comments', 'Country']"
   ]
  },
  {
   "cell_type": "code",
   "execution_count": 5,
   "metadata": {},
   "outputs": [],
   "source": [
    "data['work_interfere'].replace(\n",
    "    {'Sometimes' : 1, 'Often' : 1,\n",
    "     'Never': 0, 'Rarely': 0},inplace = True)"
   ]
  },
  {
   "cell_type": "code",
   "execution_count": 6,
   "metadata": {},
   "outputs": [],
   "source": [
    "data.drop(columns=COLUMNS_TO_DROP, \n",
    "          inplace = True)"
   ]
  },
  {
   "cell_type": "code",
   "execution_count": 7,
   "metadata": {},
   "outputs": [],
   "source": [
    "QUANTITATIVE_COLUMNS = ['Age']\n",
    "for x in data.columns:\n",
    "    if (x not in QUANTITATIVE_COLUMNS):\n",
    "        data[x] = pd.factorize(data[x])[0]"
   ]
  },
  {
   "cell_type": "code",
   "execution_count": 8,
   "metadata": {},
   "outputs": [],
   "source": [
    "X = data.drop(columns=['work_interfere'])\n",
    "Y = data['work_interfere']"
   ]
  }
 ],
 "metadata": {
  "kernelspec": {
   "display_name": "Python 3",
   "language": "python",
   "name": "python3"
  },
  "language_info": {
   "codemirror_mode": {
    "name": "ipython",
    "version": 3
   },
   "file_extension": ".py",
   "mimetype": "text/x-python",
   "name": "python",
   "nbconvert_exporter": "python",
   "pygments_lexer": "ipython3",
   "version": "3.7.9"
  }
 },
 "nbformat": 4,
 "nbformat_minor": 4
}
